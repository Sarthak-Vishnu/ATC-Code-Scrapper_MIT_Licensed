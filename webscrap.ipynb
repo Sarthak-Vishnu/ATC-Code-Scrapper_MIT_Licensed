{
 "cells": [
  {
   "cell_type": "code",
   "execution_count": 3,
   "metadata": {},
   "outputs": [],
   "source": [
    "from selenium import webdriver"
   ]
  },
  {
   "cell_type": "code",
   "execution_count": 14,
   "metadata": {},
   "outputs": [],
   "source": [
    "def _open_set_up_chrome():\n",
    "    # initialize the webdriver\n",
    "    options = webdriver.ChromeOptions().add_argument(\"--incognito\")\n",
    "    driver = webdriver.Chrome(options=options)\n",
    "    driver.maximize_window()\n",
    "    return driver"
   ]
  },
  {
   "cell_type": "code",
   "execution_count": 50,
   "metadata": {},
   "outputs": [],
   "source": [
    "def scrape_page_CNIL():\n",
    "\n",
    "    \"\"\"\"PARTIE A ENLEVER\"\"\"\n",
    "    options = webdriver.ChromeOptions().add_argument(\"--incognito\")\n",
    "    driver = webdriver.Chrome(options=options)\n",
    "    driver.maximize_window()\n",
    "    \"\"\"\"\"\"\n",
    "\n",
    "    # navigate to the website\n",
    "    driver.get(\"https://www.cnil.fr/\")\n",
    "    communiques = driver.find_element(\"xpath\", '//*[@id=\"block-system-main\"]/div[3]/div/div[2]/p[2]/a')\n",
    "    communiques.click()\n",
    "\n",
    "    # locate the section containing the articles\n",
    "    page_cards = driver.find_elements(\"xpath\",'//*[@id=\"block-system-main\"]/div[2]/*')\n",
    "    #test = []\n",
    "    #for cards in page_cards:\n",
    "    #    title = press_release.find_element(\"xpath\",'./div[1]/div[1]/div/div/h3')\n",
    "    #    url = press_release.get_attribute(\"href\")\n",
    "    #    test.append({'title': title, 'url': url})\n",
    "\n",
    "    return page_cards\n",
    "\n"
   ]
  },
  {
   "cell_type": "code",
   "execution_count": 51,
   "metadata": {},
   "outputs": [
    {
     "data": {
      "text/plain": [
       "[<selenium.webdriver.remote.webelement.WebElement (session=\"105e56c52875cb0989c76138afe61a68\", element=\"02c74b32-9c0c-4e39-ace5-6d3b029d0a35\")>]"
      ]
     },
     "execution_count": 51,
     "metadata": {},
     "output_type": "execute_result"
    }
   ],
   "source": [
    "scrape_page_CNIL()"
   ]
  },
  {
   "cell_type": "code",
   "execution_count": null,
   "metadata": {},
   "outputs": [],
   "source": [
    "from selenium import webdriver\n",
    "from multiprocessing import Pool\n",
    "\n",
    "# initialize the webdriver\n",
    "driver = webdriver.Chrome()\n",
    "\n",
    "# define a function to scrape the titles and URLs of the newest articles from a page\n",
    "def scrape_page(page_url):\n",
    "    driver.get(page_url)\n",
    "\n",
    "\n",
    "# define a list of page URLs to scrape\n",
    "page_urls = [\"https://www.cnil.fr/fr/communiques?page={}\".format(page_num) for page_num in range(1, 6)]\n",
    "\n",
    "# scrape the titles and URLs of the newest articles from each page in parallel\n",
    "with Pool(processes=5) as pool:\n",
    "    results = pool.map(scrape_page, page_urls)\n",
    "\n",
    "# flatten the list of results and print the titles and URLs of the newest articles\n",
    "for result in results:\n",
    "    for article in result:\n",
    "        print(article[0] + \" - \" + article[1])\n",
    "\n",
    "# close the webdriver\n",
    "driver.quit()\n"
   ]
  },
  {
   "cell_type": "code",
   "execution_count": null,
   "metadata": {},
   "outputs": [],
   "source": []
  }
 ],
 "metadata": {
  "kernelspec": {
   "display_name": "venv",
   "language": "python",
   "name": "python3"
  },
  "language_info": {
   "codemirror_mode": {
    "name": "ipython",
    "version": 3
   },
   "file_extension": ".py",
   "mimetype": "text/x-python",
   "name": "python",
   "nbconvert_exporter": "python",
   "pygments_lexer": "ipython3",
   "version": "3.11.2"
  },
  "orig_nbformat": 4,
  "vscode": {
   "interpreter": {
    "hash": "629cff315287a79e24993bed0c4eb65e93a64710c1787325788380c2b0e60ff7"
   }
  }
 },
 "nbformat": 4,
 "nbformat_minor": 2
}
